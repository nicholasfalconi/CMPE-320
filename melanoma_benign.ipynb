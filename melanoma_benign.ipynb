{
  "nbformat": 4,
  "nbformat_minor": 0,
  "metadata": {
    "colab": {
      "name": "melanoma_benign.ipynb",
      "provenance": [],
      "authorship_tag": "ABX9TyO61+Wx5Qu6YftEmhM/6P63",
      "include_colab_link": true
    },
    "kernelspec": {
      "name": "python3",
      "display_name": "Python 3"
    },
    "language_info": {
      "name": "python"
    }
  },
  "cells": [
    {
      "cell_type": "markdown",
      "metadata": {
        "id": "view-in-github",
        "colab_type": "text"
      },
      "source": [
        "<a href=\"https://colab.research.google.com/github/nicholasfalconi/CMPE-320/blob/master/melanoma_benign.ipynb\" target=\"_parent\"><img src=\"https://colab.research.google.com/assets/colab-badge.svg\" alt=\"Open In Colab\"/></a>"
      ]
    },
    {
      "cell_type": "markdown",
      "source": [
        "# Benign or Malignant skin cancer detection model\n",
        "___________________________________________________________\n",
        "\n",
        "# Nicholas Falconi, 2022\n",
        "\n",
        "##Current Architecture is U-Net ++ "
      ],
      "metadata": {
        "id": "J2nA4vtuddTb"
      }
    },
    {
      "cell_type": "markdown",
      "source": [
        "# Mount Gooogle Drive ( Data )"
      ],
      "metadata": {
        "id": "ZHUyLwDubh0P"
      }
    },
    {
      "cell_type": "code",
      "source": [
        "from google.colab import drive\n",
        "drive.mount('/content/drive')"
      ],
      "metadata": {
        "colab": {
          "base_uri": "https://localhost:8080/"
        },
        "id": "gNi8WklyBrBH",
        "outputId": "ef059558-54df-4e11-b7b6-c5ff7a830d78"
      },
      "execution_count": 4,
      "outputs": [
        {
          "output_type": "stream",
          "name": "stdout",
          "text": [
            "Mounted at /content/drive\n"
          ]
        }
      ]
    },
    {
      "cell_type": "markdown",
      "source": [
        "# Imports"
      ],
      "metadata": {
        "id": "NVNLbmRFcCX8"
      }
    },
    {
      "cell_type": "code",
      "source": [
        "import os\n",
        "import shutil\n",
        "from tqdm import tqdm\n",
        "import pandas as pd\n",
        "\n",
        "# Imports for Tensorflow \n",
        "import tensorflow as tf\n",
        "from tensorflow.keras.optimizers import RMSprop\n",
        "from tensorflow.keras.preprocessing.image import ImageDataGenerator"
      ],
      "metadata": {
        "id": "o49ssbJHcBIm"
      },
      "execution_count": null,
      "outputs": []
    },
    {
      "cell_type": "code",
      "source": [
        "# Set the paths for the train and test csv files\n",
        "train_csv_path = \"/content/drive/MyDrive/Mole_AI/train.csv\"\n",
        "test_csv_path = \"/content/drive/MyDrive/Mole_AI/test.csv\"\n",
        "\n",
        "# Data frames for train and test labels\n",
        "trainLabels = pd.read_csv(train_csv_path)\n",
        "trestLabels = pd.read_csv(test_csv_path)\n",
        "\n",
        "benign_malignant = trainLabels[['image_name', 'benign_malignant']]"
      ],
      "metadata": {
        "id": "-Pbw977nCYp0"
      },
      "execution_count": null,
      "outputs": []
    },
    {
      "cell_type": "markdown",
      "source": [
        "# Load csv into data-frames"
      ],
      "metadata": {
        "id": "iS_tRn7zcHIc"
      }
    },
    {
      "cell_type": "markdown",
      "source": [
        "# Seperate training data into malignant & Benign folders"
      ],
      "metadata": {
        "id": "_Y6K4o8acMxH"
      }
    },
    {
      "cell_type": "code",
      "source": [
        "'''\n",
        "Seperate training images into two folders in the following format\n",
        "\n",
        "Mole_AI ----- test ---- train --- train.csv --- test.csv\n",
        "                          |\n",
        "                          |\n",
        "             malignant____|____ benign\n",
        "                |                 |\n",
        "                img1.jpg          img1.jpg\n",
        "                img2.jpg          img2.jpg\n",
        "                ...               ...\n",
        "'''\n",
        "\n",
        "# Get Benign file names\n",
        "benign_malignant = trainLabels[['image_name', 'benign_malignant']]\n",
        "\n",
        "# Creating Dataframe\n",
        "bm_df = pd.DataFrame(benign_malignant, columns = ['image_name', 'benign_malignant'])\n",
        "\n",
        "# Benign \n",
        "benign = bm_df[bm_df['benign_malignant'] == 'benign']\n",
        "\n",
        "# Malignant \n",
        "malignant = bm_df[bm_df['benign_malignant'] == 'malignant']\n",
        "\n",
        "# Move files for Benign\n",
        "for name in tqdm(benign.image_name):\n",
        "  shutil.move(\"/content/drive/MyDrive/Mole_AI/train/train/{}.jpg\".format(name), \"/content/drive/MyDrive/Mole_AI/training/benign\")\n",
        "\n",
        "\n",
        "# Move files for malignant\n",
        "for name in tqdm(malignant.image_name):\n",
        "  shutil.move(\"/content/drive/MyDrive/Mole_AI/train/train/{}.jpg\".format(name), \"/content/drive/MyDrive/Mole_AI/training/malignant\")\n"
      ],
      "metadata": {
        "id": "VZ4Z226uETJD"
      },
      "execution_count": null,
      "outputs": []
    },
    {
      "cell_type": "markdown",
      "source": [
        "#Define Model"
      ],
      "metadata": {
        "id": "tzoyZNR8cs88"
      }
    },
    {
      "cell_type": "code",
      "source": [
        "\"\"\"\n",
        "Update this model to U-net\n",
        "\"\"\"\n",
        "\n",
        "model = tf.keras.models.Sequential([\n",
        "                                    \n",
        "    # Note the input shape is the desired size of the image 300x300 with 3 bytes color\n",
        "    # This is the first convolution\n",
        "    tf.keras.layers.Conv2D(16, (3,3), activation='relu', input_shape=(300, 300, 3)),\n",
        "    tf.keras.layers.MaxPooling2D(2, 2),\n",
        "\n",
        "    # The second convolution\n",
        "    tf.keras.layers.Conv2D(32, (3,3), activation='relu'),\n",
        "    tf.keras.layers.MaxPooling2D(2,2),\n",
        "\n",
        "    # The third convolution\n",
        "    tf.keras.layers.Conv2D(64, (3,3), activation='relu'),\n",
        "    tf.keras.layers.MaxPooling2D(2,2),\n",
        "\n",
        "    # The fourth convolution\n",
        "    tf.keras.layers.Conv2D(64, (3,3), activation='relu'),\n",
        "    tf.keras.layers.MaxPooling2D(2,2),\n",
        "\n",
        "    # The fifth convolution\n",
        "    tf.keras.layers.Conv2D(64, (3,3), activation='relu'),\n",
        "    tf.keras.layers.MaxPooling2D(2,2),\n",
        "\n",
        "    # Flatten the results to feed into a DNN\n",
        "    tf.keras.layers.Flatten(),\n",
        "\n",
        "    # 512 neuron hidden layer\n",
        "    tf.keras.layers.Dense(512, activation='relu'),\n",
        "    \n",
        "    # Only 1 output neuron. It will contain a value from 0-1 where 0 for 1 class ('benign') and 1 for the other ('malignant')\n",
        "    tf.keras.layers.Dense(1, activation='sigmoid')\n",
        "])"
      ],
      "metadata": {
        "id": "KlCb-k8DOtt7"
      },
      "execution_count": 39,
      "outputs": []
    },
    {
      "cell_type": "code",
      "source": [
        "model.summary()"
      ],
      "metadata": {
        "colab": {
          "base_uri": "https://localhost:8080/"
        },
        "id": "leZnuiLyYCFi",
        "outputId": "3b139203-26e8-4489-9783-03ad5f7a223d"
      },
      "execution_count": 40,
      "outputs": [
        {
          "output_type": "stream",
          "name": "stdout",
          "text": [
            "Model: \"sequential\"\n",
            "_________________________________________________________________\n",
            " Layer (type)                Output Shape              Param #   \n",
            "=================================================================\n",
            " conv2d (Conv2D)             (None, 298, 298, 16)      448       \n",
            "                                                                 \n",
            " max_pooling2d (MaxPooling2D  (None, 149, 149, 16)     0         \n",
            " )                                                               \n",
            "                                                                 \n",
            " conv2d_1 (Conv2D)           (None, 147, 147, 32)      4640      \n",
            "                                                                 \n",
            " max_pooling2d_1 (MaxPooling  (None, 73, 73, 32)       0         \n",
            " 2D)                                                             \n",
            "                                                                 \n",
            " conv2d_2 (Conv2D)           (None, 71, 71, 64)        18496     \n",
            "                                                                 \n",
            " max_pooling2d_2 (MaxPooling  (None, 35, 35, 64)       0         \n",
            " 2D)                                                             \n",
            "                                                                 \n",
            " conv2d_3 (Conv2D)           (None, 33, 33, 64)        36928     \n",
            "                                                                 \n",
            " max_pooling2d_3 (MaxPooling  (None, 16, 16, 64)       0         \n",
            " 2D)                                                             \n",
            "                                                                 \n",
            " conv2d_4 (Conv2D)           (None, 14, 14, 64)        36928     \n",
            "                                                                 \n",
            " max_pooling2d_4 (MaxPooling  (None, 7, 7, 64)         0         \n",
            " 2D)                                                             \n",
            "                                                                 \n",
            " flatten (Flatten)           (None, 3136)              0         \n",
            "                                                                 \n",
            " dense (Dense)               (None, 512)               1606144   \n",
            "                                                                 \n",
            " dense_1 (Dense)             (None, 1)                 513       \n",
            "                                                                 \n",
            "=================================================================\n",
            "Total params: 1,704,097\n",
            "Trainable params: 1,704,097\n",
            "Non-trainable params: 0\n",
            "_________________________________________________________________\n"
          ]
        }
      ]
    },
    {
      "cell_type": "markdown",
      "source": [
        "# Compile model"
      ],
      "metadata": {
        "id": "NQQFxz3Fc_tZ"
      }
    },
    {
      "cell_type": "code",
      "source": [
        "model.compile(loss='binary_crossentropy',\n",
        "              optimizer=RMSprop(learning_rate=0.001),\n",
        "              metrics=['accuracy'])"
      ],
      "metadata": {
        "id": "AzjR26XqYEs3"
      },
      "execution_count": 41,
      "outputs": []
    },
    {
      "cell_type": "markdown",
      "source": [
        "# Pre-process images "
      ],
      "metadata": {
        "id": "O3EH1hdgdBpu"
      }
    },
    {
      "cell_type": "code",
      "source": [
        "# All images will be rescaled by 1./255\n",
        "train_datagen = ImageDataGenerator(rescale=1/255)\n",
        "\n",
        "# Flow training images in batches of 128 using train_datagen generator\n",
        "train_generator = train_datagen.flow_from_directory(\n",
        "        '/content/drive/MyDrive/Mole_AI/training',  # This is the source directory for training images\n",
        "        target_size=(300, 300),  # All images will be resized to 300x300\n",
        "        batch_size=128,\n",
        "        # Since we use binary_crossentropy loss, we need binary labels\n",
        "        class_mode='binary',\n",
        "        horizontal_flip=True,\n",
        "        vertical_flip=True,\n",
        "        featurewise_std_normalization=True)\n"
      ],
      "metadata": {
        "colab": {
          "base_uri": "https://localhost:8080/"
        },
        "id": "BQSu2JGlYIxd",
        "outputId": "67c25de7-7282-4130-d2c3-c078e6de1933"
      },
      "execution_count": 42,
      "outputs": [
        {
          "output_type": "stream",
          "name": "stdout",
          "text": [
            "Found 33126 images belonging to 2 classes.\n"
          ]
        }
      ]
    },
    {
      "cell_type": "markdown",
      "source": [
        "# Train the model"
      ],
      "metadata": {
        "id": "B45yArI2dIu6"
      }
    },
    {
      "cell_type": "code",
      "source": [
        "history = model.fit(\n",
        "      train_generator,\n",
        "      steps_per_epoch=8,  \n",
        "      epochs=15,\n",
        "      verbose=1)"
      ],
      "metadata": {
        "colab": {
          "base_uri": "https://localhost:8080/"
        },
        "id": "EfQ3dihTYWD9",
        "outputId": "09ee1c4d-3f28-477f-9a87-422190e0f6e5"
      },
      "execution_count": null,
      "outputs": [
        {
          "output_type": "stream",
          "name": "stdout",
          "text": [
            "Epoch 1/15\n",
            "8/8 [==============================] - 540s 66s/step - loss: 0.2930 - accuracy: 0.9756\n",
            "Epoch 2/15\n",
            "8/8 [==============================] - 543s 67s/step - loss: 0.0921 - accuracy: 0.9824\n",
            "Epoch 3/15\n",
            "8/8 [==============================] - 567s 70s/step - loss: 0.1073 - accuracy: 0.9805\n",
            "Epoch 4/15\n",
            "3/8 [==========>...................] - ETA: 5:49 - loss: 0.0909 - accuracy: 0.9792"
          ]
        }
      ]
    }
  ]
}